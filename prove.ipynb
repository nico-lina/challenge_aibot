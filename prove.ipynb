{
 "cells": [
  {
   "cell_type": "code",
   "execution_count": 1,
   "metadata": {},
   "outputs": [],
   "source": [
    "import telepot"
   ]
  },
  {
   "cell_type": "code",
   "execution_count": 2,
   "metadata": {},
   "outputs": [],
   "source": [
    "TOKEN = '7865121599:AAGWZOQ2Cnmpyr7En0PZC5npYLhSpIQgG5Q'"
   ]
  },
  {
   "cell_type": "code",
   "execution_count": 3,
   "metadata": {},
   "outputs": [],
   "source": [
    "bot = telepot.Bot(TOKEN)"
   ]
  },
  {
   "cell_type": "code",
   "execution_count": 10,
   "metadata": {},
   "outputs": [],
   "source": [
    "messaggio = \"\"\"📣 <b>NEWS: FINE STATO DI EMERGENZA</b>\n",
    "\n",
    "<b>DETTAGLI</b>\n",
    "Le nuove indicazioni del Governo introducono dal 31 marzo la fine dello stato di emergenza sanitaria.\n",
    "Le autorità sanitarie riscontrano ormai da tempo una stabilizzazione dei parametri pandemici più importanti,\n",
    "in primis la diminuzione dei ricoveri e dei morti per COVID-19.\n",
    "\n",
    "Il percorso per il graduale ritorno alla “normalità” prevede alcuni step fondamentali:\n",
    "\n",
    "<code>1) Fine del sistema delle zone colorate all’interno del nostro territorio;\n",
    "2) Graduale superamento del green pass;\n",
    "3) Eliminazione delle quarantene precauzionali.</code>\n",
    "\n",
    "Risulta tuttavia importante mantenere ancora un corretto livello di attenzione nella nostra vita personale.\n",
    "\n",
    "\n",
    "<b>Io continuerò ad elaborare i dati per te quindi continua ad usarmi 🤖</b>\n",
    "\"\"\""
   ]
  },
  {
   "cell_type": "code",
   "execution_count": 11,
   "metadata": {},
   "outputs": [
    {
     "data": {
      "text/plain": "{'message_id': 294,\n 'from': {'id': 7865121599,\n  'is_bot': True,\n  'first_name': 'Tony Spark',\n  'username': 'luca_cheshire_bot'},\n 'chat': {'id': 119405630,\n  'first_name': 'Luca⚡️',\n  'username': 'lucamarino7',\n  'type': 'private'},\n 'date': 1738694105,\n 'text': '📣 NEWS: FINE STATO DI EMERGENZA\\n\\nDETTAGLI\\nLe nuove indicazioni del Governo introducono dal 31 marzo la fine dello stato di emergenza sanitaria.\\nLe autorità sanitarie riscontrano ormai da tempo una stabilizzazione dei parametri pandemici più importanti,\\nin primis la diminuzione dei ricoveri e dei morti per COVID-19.\\n\\nIl percorso per il graduale ritorno alla “normalità” prevede alcuni step fondamentali:\\n\\n1) Fine del sistema delle zone colorate all’interno del nostro territorio;\\n2) Graduale superamento del green pass;\\n3) Eliminazione delle quarantene precauzionali.\\n\\nRisulta tuttavia importante mantenere ancora un corretto livello di attenzione nella nostra vita personale.\\n\\n\\nIo continuerò ad elaborare i dati per te quindi continua ad usarmi 🤖',\n 'entities': [{'offset': 3, 'length': 29, 'type': 'bold'},\n  {'offset': 34, 'length': 8, 'type': 'bold'},\n  {'offset': 407, 'length': 162, 'type': 'code'},\n  {'offset': 681, 'length': 69, 'type': 'bold'}]}"
     },
     "execution_count": 11,
     "metadata": {},
     "output_type": "execute_result"
    }
   ],
   "source": [
    "bot.sendMessage(119405630, messaggio, parse_mode=\"HTML\")"
   ]
  },
  {
   "cell_type": "code",
   "execution_count": null,
   "metadata": {},
   "outputs": [],
   "source": []
  }
 ],
 "metadata": {
  "kernelspec": {
   "display_name": "Python 3.12.0 64-bit",
   "name": "python3120jvsc74a57bd03f007541affe8e9bffdbc4961558cef873a525ac28097eff3d39a1c5e9a2788f"
  },
  "language_info": {
   "codemirror_mode": {
    "name": "ipython",
    "version": 3
   },
   "file_extension": ".py",
   "mimetype": "text/x-python",
   "name": "python",
   "nbconvert_exporter": "python",
   "pygments_lexer": "ipython3",
   "version": "3.12.0"
  },
  "orig_nbformat": 2
 },
 "nbformat": 4,
 "nbformat_minor": 2
}