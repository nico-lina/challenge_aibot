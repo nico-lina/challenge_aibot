{
 "cells": [
  {
   "cell_type": "code",
   "execution_count": 1,
   "metadata": {},
   "outputs": [],
   "source": [
    "from utili import connect"
   ]
  },
  {
   "cell_type": "code",
   "execution_count": 2,
   "metadata": {},
   "outputs": [
    {
     "name": "stdout",
     "output_type": "stream",
     "text": [
      "could not translate host name \"tutorial_odoo-db-1\" to address: nodename nor servname provided, or not known\n",
      "\n"
     ]
    }
   ],
   "source": [
    "db = connect(\"gattaccio\")"
   ]
  },
  {
   "cell_type": "code",
   "execution_count": 3,
   "metadata": {},
   "outputs": [],
   "source": [
    "import pandas as pd"
   ]
  },
  {
   "cell_type": "code",
   "execution_count": 5,
   "metadata": {},
   "outputs": [],
   "source": [
    "query = \"\"\"SELECT\n",
    "    pp.id AS product_id,\n",
    "    pt.name->>'it_IT' AS product_name,\n",
    "    pp.default_code AS product_variant,\n",
    "    sq.location_id,\n",
    "    sl.name as warehouse_name,\n",
    "    SUM(sq.quantity) as quantity,\n",
    "    SUM(sq.reserved_quantity) as reserved_quantity,\n",
    "    (SUM(sq.quantity) - SUM(sq.reserved_quantity)) AS available_quantity\n",
    "FROM\n",
    "    stock_quant sq\n",
    "JOIN\n",
    "    product_product pp ON pp.id = sq.product_id\n",
    "JOIN\n",
    "    product_template pt ON pp.product_tmpl_id = pt.id\n",
    "JOIN \n",
    "    stock_location sl ON sl.id = sq.location_id\n",
    "WHERE\n",
    "    sq.quantity > 0  -- Per mostrare solo i prodotti con quantità disponibile\n",
    "GROUP BY\n",
    "    pp.id, pt.name, pp.default_code, sq.location_id, sl.name\n",
    "ORDER BY\n",
    "    product_name;\n",
    "\"\"\""
   ]
  },
  {
   "cell_type": "code",
   "execution_count": 6,
   "metadata": {},
   "outputs": [
    {
     "name": "stderr",
     "output_type": "stream",
     "text": [
      "/var/folders/gt/nrwc72y96mz29w98k9crq1qh0000gn/T/ipykernel_16814/1215376757.py:1: UserWarning: pandas only supports SQLAlchemy connectable (engine/connection) or database string URI or sqlite3 DBAPI2 connection. Other DBAPI2 objects are not tested. Please consider using SQLAlchemy.\n",
      "  df = pd.read_sql_query(query, db)\n"
     ]
    },
    {
     "data": {
      "text/html": "<div>\n<style scoped>\n    .dataframe tbody tr th:only-of-type {\n        vertical-align: middle;\n    }\n\n    .dataframe tbody tr th {\n        vertical-align: top;\n    }\n\n    .dataframe thead th {\n        text-align: right;\n    }\n</style>\n<table border=\"1\" class=\"dataframe\">\n  <thead>\n    <tr style=\"text-align: right;\">\n      <th></th>\n      <th>product_id</th>\n      <th>product_name</th>\n      <th>product_variant</th>\n      <th>location_id</th>\n      <th>warehouse_name</th>\n      <th>quantity</th>\n      <th>reserved_quantity</th>\n      <th>available_quantity</th>\n    </tr>\n  </thead>\n  <tbody>\n    <tr>\n      <th>0</th>\n      <td>21</td>\n      <td>Armadietto con porte</td>\n      <td>E-COM11</td>\n      <td>8</td>\n      <td>Giacenza</td>\n      <td>33.0</td>\n      <td>0.0</td>\n      <td>33.0</td>\n    </tr>\n    <tr>\n      <th>1</th>\n      <td>17</td>\n      <td>Armadietto grande</td>\n      <td>E-COM07</td>\n      <td>8</td>\n      <td>Giacenza</td>\n      <td>500.0</td>\n      <td>230.0</td>\n      <td>270.0</td>\n    </tr>\n    <tr>\n      <th>2</th>\n      <td>33</td>\n      <td>Cassettiera</td>\n      <td>FURN_8855</td>\n      <td>8</td>\n      <td>Giacenza</td>\n      <td>80.0</td>\n      <td>15.0</td>\n      <td>65.0</td>\n    </tr>\n    <tr>\n      <th>3</th>\n      <td>20</td>\n      <td>Cestino a pedale</td>\n      <td>E-COM10</td>\n      <td>8</td>\n      <td>Giacenza</td>\n      <td>22.0</td>\n      <td>0.0</td>\n      <td>22.0</td>\n    </tr>\n    <tr>\n      <th>4</th>\n      <td>30</td>\n      <td>Postazione di lavoro privata</td>\n      <td>FURN_0789</td>\n      <td>8</td>\n      <td>Giacenza</td>\n      <td>16.0</td>\n      <td>0.0</td>\n      <td>16.0</td>\n    </tr>\n    <tr>\n      <th>5</th>\n      <td>24</td>\n      <td>Presidente della conferenza</td>\n      <td>E-COM13</td>\n      <td>8</td>\n      <td>Giacenza</td>\n      <td>30.0</td>\n      <td>0.0</td>\n      <td>30.0</td>\n    </tr>\n    <tr>\n      <th>6</th>\n      <td>23</td>\n      <td>Presidente della conferenza</td>\n      <td>E-COM12</td>\n      <td>8</td>\n      <td>Giacenza</td>\n      <td>26.0</td>\n      <td>0.0</td>\n      <td>26.0</td>\n    </tr>\n    <tr>\n      <th>7</th>\n      <td>44</td>\n      <td>Scatola portacavi</td>\n      <td>FURN_5555</td>\n      <td>17</td>\n      <td>Shelf 2</td>\n      <td>90.0</td>\n      <td>0.0</td>\n      <td>90.0</td>\n    </tr>\n    <tr>\n      <th>8</th>\n      <td>18</td>\n      <td>Scatola portaoggetti</td>\n      <td>E-COM08</td>\n      <td>8</td>\n      <td>Giacenza</td>\n      <td>18.0</td>\n      <td>0.0</td>\n      <td>18.0</td>\n    </tr>\n    <tr>\n      <th>9</th>\n      <td>32</td>\n      <td>Schermi acustici</td>\n      <td>FURN_6667</td>\n      <td>8</td>\n      <td>Giacenza</td>\n      <td>16.0</td>\n      <td>0.0</td>\n      <td>16.0</td>\n    </tr>\n    <tr>\n      <th>10</th>\n      <td>26</td>\n      <td>Scrivania angolare sinistra</td>\n      <td>FURN_1118</td>\n      <td>8</td>\n      <td>Giacenza</td>\n      <td>2.0</td>\n      <td>0.0</td>\n      <td>2.0</td>\n    </tr>\n    <tr>\n      <th>11</th>\n      <td>8</td>\n      <td>Scrivania combinata</td>\n      <td>FURN_7800</td>\n      <td>8</td>\n      <td>Giacenza</td>\n      <td>60.0</td>\n      <td>56.0</td>\n      <td>4.0</td>\n    </tr>\n    <tr>\n      <th>12</th>\n      <td>13</td>\n      <td>Scrivania personalizzabile</td>\n      <td>FURN_0097</td>\n      <td>8</td>\n      <td>Giacenza</td>\n      <td>50.0</td>\n      <td>0.0</td>\n      <td>50.0</td>\n    </tr>\n    <tr>\n      <th>13</th>\n      <td>12</td>\n      <td>Scrivania personalizzabile</td>\n      <td>FURN_0096</td>\n      <td>8</td>\n      <td>Giacenza</td>\n      <td>45.0</td>\n      <td>0.0</td>\n      <td>45.0</td>\n    </tr>\n    <tr>\n      <th>14</th>\n      <td>14</td>\n      <td>Scrivania personalizzabile</td>\n      <td>FURN_0098</td>\n      <td>8</td>\n      <td>Giacenza</td>\n      <td>55.0</td>\n      <td>0.0</td>\n      <td>55.0</td>\n    </tr>\n    <tr>\n      <th>15</th>\n      <td>25</td>\n      <td>Sedia da ufficio nera</td>\n      <td>FURN_0269</td>\n      <td>8</td>\n      <td>Giacenza</td>\n      <td>10.0</td>\n      <td>0.0</td>\n      <td>10.0</td>\n    </tr>\n  </tbody>\n</table>\n</div>",
      "text/plain": "    product_id                  product_name product_variant  location_id  \\\n0           21          Armadietto con porte         E-COM11            8   \n1           17             Armadietto grande         E-COM07            8   \n2           33                   Cassettiera       FURN_8855            8   \n3           20              Cestino a pedale         E-COM10            8   \n4           30  Postazione di lavoro privata       FURN_0789            8   \n5           24   Presidente della conferenza         E-COM13            8   \n6           23   Presidente della conferenza         E-COM12            8   \n7           44             Scatola portacavi       FURN_5555           17   \n8           18          Scatola portaoggetti         E-COM08            8   \n9           32              Schermi acustici       FURN_6667            8   \n10          26   Scrivania angolare sinistra       FURN_1118            8   \n11           8           Scrivania combinata       FURN_7800            8   \n12          13    Scrivania personalizzabile       FURN_0097            8   \n13          12    Scrivania personalizzabile       FURN_0096            8   \n14          14    Scrivania personalizzabile       FURN_0098            8   \n15          25         Sedia da ufficio nera       FURN_0269            8   \n\n   warehouse_name  quantity  reserved_quantity  available_quantity  \n0        Giacenza      33.0                0.0                33.0  \n1        Giacenza     500.0              230.0               270.0  \n2        Giacenza      80.0               15.0                65.0  \n3        Giacenza      22.0                0.0                22.0  \n4        Giacenza      16.0                0.0                16.0  \n5        Giacenza      30.0                0.0                30.0  \n6        Giacenza      26.0                0.0                26.0  \n7         Shelf 2      90.0                0.0                90.0  \n8        Giacenza      18.0                0.0                18.0  \n9        Giacenza      16.0                0.0                16.0  \n10       Giacenza       2.0                0.0                 2.0  \n11       Giacenza      60.0               56.0                 4.0  \n12       Giacenza      50.0                0.0                50.0  \n13       Giacenza      45.0                0.0                45.0  \n14       Giacenza      55.0                0.0                55.0  \n15       Giacenza      10.0                0.0                10.0  "
     },
     "execution_count": 6,
     "metadata": {},
     "output_type": "execute_result"
    }
   ],
   "source": [
    "df = pd.read_sql_query(query, db)\n",
    "df"
   ]
  },
  {
   "cell_type": "code",
   "execution_count": 24,
   "metadata": {},
   "outputs": [],
   "source": [
    "db.close()"
   ]
  },
  {
   "cell_type": "code",
   "execution_count": 26,
   "metadata": {},
   "outputs": [
    {
     "data": {
      "text/plain": "'|   product_id | product_name                 | product_variant   |   location_id | warehouse_name   |   quantity |   reserved_quantity |   available_quantity |\\n|-------------:|:-----------------------------|:------------------|--------------:|:-----------------|-----------:|--------------------:|---------------------:|\\n|           21 | Armadietto con porte         | E-COM11           |             8 | Giacenza         |         33 |                   0 |                   33 |\\n|           17 | Armadietto grande            | E-COM07           |             8 | Giacenza         |        500 |                 230 |                  270 |\\n|           33 | Cassettiera                  | FURN_8855         |             8 | Giacenza         |         80 |                  15 |                   65 |\\n|           20 | Cestino a pedale             | E-COM10           |             8 | Giacenza         |         22 |                   0 |                   22 |\\n|           30 | Postazione di lavoro privata | FURN_0789         |             8 | Giacenza         |         16 |                   0 |                   16 |\\n|           24 | Presidente della conferenza  | E-COM13           |             8 | Giacenza         |         30 |                   0 |                   30 |\\n|           23 | Presidente della conferenza  | E-COM12           |             8 | Giacenza         |         26 |                   0 |                   26 |\\n|           44 | Scatola portacavi            | FURN_5555         |            17 | Shelf 2          |         50 |                   0 |                   50 |\\n|           44 | Scatola portacavi            | FURN_5555         |            17 | Shelf 2          |         40 |                   0 |                   40 |\\n|           18 | Scatola portaoggetti         | E-COM08           |             8 | Giacenza         |         18 |                   0 |                   18 |\\n|           32 | Schermi acustici             | FURN_6667         |             8 | Giacenza         |         16 |                   0 |                   16 |\\n|           26 | Scrivania angolare sinistra  | FURN_1118         |             8 | Giacenza         |          2 |                   0 |                    2 |\\n|            8 | Scrivania combinata          | FURN_7800         |             8 | Giacenza         |         60 |                  56 |                    4 |\\n|           12 | Scrivania personalizzabile   | FURN_0096         |             8 | Giacenza         |         45 |                   0 |                   45 |\\n|           13 | Scrivania personalizzabile   | FURN_0097         |             8 | Giacenza         |         50 |                   0 |                   50 |\\n|           14 | Scrivania personalizzabile   | FURN_0098         |             8 | Giacenza         |         55 |                   0 |                   55 |\\n|           25 | Sedia da ufficio nera        | FURN_0269         |             8 | Giacenza         |         10 |                   0 |                   10 |'"
     },
     "execution_count": 26,
     "metadata": {},
     "output_type": "execute_result"
    }
   ],
   "source": [
    "df.to_markdown(index=False)"
   ]
  },
  {
   "cell_type": "code",
   "execution_count": null,
   "metadata": {},
   "outputs": [],
   "source": []
  },
  {
   "cell_type": "code",
   "execution_count": 2,
   "metadata": {},
   "outputs": [],
   "source": [
    "import odoorpc"
   ]
  },
  {
   "cell_type": "code",
   "execution_count": 3,
   "metadata": {},
   "outputs": [],
   "source": [
    "odoo = odoorpc.ODOO('localhost', port=8069)"
   ]
  },
  {
   "cell_type": "code",
   "execution_count": 5,
   "metadata": {},
   "outputs": [],
   "source": [
    "odoo.login('health1', 'admin', 'admin')"
   ]
  },
  {
   "cell_type": "code",
   "execution_count": null,
   "metadata": {},
   "outputs": [],
   "source": []
  },
  {
   "cell_type": "code",
   "execution_count": 10,
   "metadata": {},
   "outputs": [],
   "source": [
    "prodotti = odoo.env['product.product']"
   ]
  },
  {
   "cell_type": "code",
   "execution_count": 11,
   "metadata": {},
   "outputs": [],
   "source": [
    "prodotti_ids = prodotti.search([])"
   ]
  },
  {
   "cell_type": "code",
   "execution_count": 17,
   "metadata": {},
   "outputs": [
    {
     "name": "stdout",
     "output_type": "stream",
     "text": [
      "Aspresic Compresse\n",
      "50.0\n",
      "60.0\n",
      "Aulin Compresse\n",
      "67.0\n",
      "0.0\n",
      "Aulin Supposte\n",
      "25.0\n",
      "0.0\n",
      "Bentelan Compresse\n",
      "12.0\n",
      "0.0\n",
      "Brufen Compresse\n",
      "0.0\n",
      "0.0\n",
      "Brufen Sciroppo\n",
      "0.0\n",
      "0.0\n",
      "Buscopan Compresse\n",
      "0.0\n",
      "0.0\n",
      "Buscopan Gocce\n",
      "0.0\n",
      "0.0\n",
      "Cardioaspirin Compresse\n",
      "0.0\n",
      "0.0\n",
      "Claritin Compresse\n",
      "0.0\n",
      "0.0\n",
      "Clexane Iniezioni\n",
      "0.0\n",
      "0.0\n",
      "Dicloreum Compresse\n",
      "0.0\n",
      "0.0\n",
      "Dicloreum Gel\n",
      "0.0\n",
      "0.0\n",
      "Efferalgan Compresse\n",
      "0.0\n",
      "0.0\n",
      "Efferalgan Supposte\n",
      "0.0\n",
      "0.0\n",
      "Fumarate Compresse\n",
      "0.0\n",
      "0.0\n",
      "Fumarate Sciroppo\n",
      "0.0\n",
      "0.0\n",
      "Gaviscon Compresse\n",
      "0.0\n",
      "0.0\n",
      "Gaviscon Sciroppo\n",
      "0.0\n",
      "0.0\n",
      "Lasix Compresse\n",
      "0.0\n",
      "0.0\n",
      "Lasix Iniezioni\n",
      "0.0\n",
      "0.0\n",
      "Levotiroxina Compresse\n",
      "0.0\n",
      "0.0\n",
      "Lexotan Compresse\n",
      "0.0\n",
      "0.0\n",
      "Metformina Compresse\n",
      "0.0\n",
      "0.0\n",
      "Moment Compresse\n",
      "0.0\n",
      "0.0\n",
      "Moment Supposte\n",
      "0.0\n",
      "0.0\n",
      "Nurofen Compresse\n",
      "0.0\n",
      "0.0\n",
      "Nurofen Gel\n",
      "0.0\n",
      "0.0\n",
      "OKI Bustina\n",
      "0.0\n",
      "0.0\n",
      "OKI Task\n",
      "0.0\n",
      "0.0\n",
      "Oxycontin Compresse\n",
      "0.0\n",
      "0.0\n",
      "Pantopan Compresse\n",
      "0.0\n",
      "0.0\n",
      "Plavix Compresse\n",
      "0.0\n",
      "0.0\n",
      "Rinoral Compresse\n",
      "0.0\n",
      "0.0\n",
      "Rinoral Sciroppo\n",
      "0.0\n",
      "0.0\n",
      "Serenase Compresse\n",
      "0.0\n",
      "0.0\n",
      "Sinvac Compresse\n",
      "0.0\n",
      "0.0\n",
      "Tachipirina Compresse\n",
      "0.0\n",
      "0.0\n",
      "Tachipirina Sciroppo\n",
      "0.0\n",
      "0.0\n",
      "Tavanic Compresse\n",
      "0.0\n",
      "0.0\n",
      "Voltaren Compresse\n",
      "0.0\n",
      "0.0\n",
      "Voltaren Gel\n",
      "0.0\n",
      "0.0\n",
      "Xarelto Compresse\n",
      "0.0\n",
      "0.0\n",
      "Zaldiar Compresse\n",
      "0.0\n",
      "0.0\n"
     ]
    }
   ],
   "source": [
    "for prodotto in prodotti.browse(prodotti_ids):\n",
    "    print(prodotto.name)\n",
    "    print(prodotto.qty_available)\n",
    "    print(prodotto.reordering_min_qty)\n",
    "    print(prodotto.)"
   ]
  },
  {
   "cell_type": "code",
   "execution_count": null,
   "metadata": {},
   "outputs": [],
   "source": []
  },
  {
   "cell_type": "code",
   "execution_count": 28,
   "metadata": {},
   "outputs": [
    {
     "name": "stdout",
     "output_type": "stream",
     "text": [
      "| Prodotto           |   Quantità Disponibile |   Quantità Riservata |   Quantità Minima di Riordino |\n",
      "|:-------------------|-----------------------:|---------------------:|------------------------------:|\n",
      "| Aspresic Compresse |                     50 |                    0 |                            60 |\n",
      "| Aulin Compresse    |                     67 |                    0 |                             0 |\n",
      "| Aulin Supposte     |                     25 |                    0 |                             0 |\n",
      "| Bentelan Compresse |                     12 |                    0 |                             0 |\n"
     ]
    }
   ],
   "source": [
    "import odoorpc\n",
    "import pandas as pd\n",
    "\n",
    "# Connessione al server Odoo\n",
    "odoo = odoorpc.ODOO('localhost', port=8069)  # Cambia host e porta se necessario\n",
    "\n",
    "# Autenticazione\n",
    "db = 'health1'\n",
    "username = 'admin'\n",
    "password = 'admin'\n",
    "odoo.login(db, username, password)\n",
    "\n",
    "# Modelli Odoo\n",
    "Product = odoo.env['product.product']\n",
    "StockQuant = odoo.env['stock.quant']\n",
    "StockLocation = odoo.env['stock.location']\n",
    "OrderPoint = odoo.env['stock.warehouse.orderpoint']\n",
    "\n",
    "# Recupero prodotti con quantità disponibili a magazzino\n",
    "products = Product.search_read([], ['id', 'name'])\n",
    "\n",
    "# Lista per raccogliere i dati\n",
    "data = []\n",
    "\n",
    "for product in products:\n",
    "    product_id = product['id']\n",
    "    product_name = product['name']\n",
    "    \n",
    "    # Ottieni le quantità per il prodotto\n",
    "    quants = StockQuant.search_read([('product_id', '=', product_id)], ['location_id', 'quantity', 'reserved_quantity'])\n",
    "    orderpoint = OrderPoint.search_read([('product_id', '=', product_id)], ['product_min_qty'])\n",
    "    min_qty = orderpoint[0]['product_min_qty'] if orderpoint else 0  # Default a 0 se non è impostata\n",
    "\n",
    "    for quant in quants:\n",
    "        location_id = quant['location_id'][0]\n",
    "        \n",
    "        # Ottieni il nome del magazzino dalla location\n",
    "        location_data = StockLocation.browse(location_id)\n",
    "        warehouse_name = location_data.display_name if location_data else \"Sconosciuto\"\n",
    "        \n",
    "        # Aggiungi i dati alla lista\n",
    "        data.append({\n",
    "            'Prodotto': product_name,\n",
    "            # 'Magazzino': warehouse_name,\n",
    "            'Quantità Disponibile': quant['quantity'],\n",
    "            'Quantità Riservata': quant['reserved_quantity'],\n",
    "            'Quantità Minima di Riordino': min_qty\n",
    "        })\n",
    "\n",
    "# Creazione DataFrame\n",
    "df = pd.DataFrame(data)\n",
    "df = df[df[\"Quantità Disponibile\"] > 0]\n",
    "\n",
    "# Stampa il DataFrame\n",
    "mark = df.to_markdown(index=False)\n",
    "print(mark)\n",
    "# Se vuoi esportarlo in CSV\n",
    "\n"
   ]
  },
  {
   "cell_type": "code",
   "execution_count": 5,
   "metadata": {},
   "outputs": [
    {
     "name": "stdout",
     "output_type": "stream",
     "text": [
      "Prodotto creato con ID: 47\n",
      "Quantità impostata per il nuovo prodotto.\n",
      "Regola di riordino creata con successo.\n"
     ]
    }
   ],
   "source": [
    "import odoorpc\n",
    "\n",
    "# Connessione al server Odoo\n",
    "odoo = odoorpc.ODOO('localhost', port=8069)  # Cambia host e porta se necessario\n",
    "\n",
    "# Autenticazione\n",
    "db = 'health1'\n",
    "username = 'admin'\n",
    "password = 'admin'\n",
    "odoo.login(db, username, password)\n",
    "\n",
    "# Modelli Odoo\n",
    "Product = odoo.env['product.product']\n",
    "StockQuant = odoo.env['stock.quant']\n",
    "StockLocation = odoo.env['stock.location']\n",
    "OrderPoint = odoo.env['stock.warehouse.orderpoint']\n",
    "\n",
    "# --- 1. Creazione del nuovo prodotto ---\n",
    "new_product_id = Product.create({\n",
    "    'name': 'Aspirina 500mg',\n",
    "    'is_storable': True,  # 'product' per prodotti stoccabili, 'consu' per consumabili\n",
    "    'categ_id': 1,  # ID della categoria, cambialo se necessario\n",
    "})\n",
    "\n",
    "print(f\"Prodotto creato con ID: {new_product_id}\")\n",
    "\n",
    "# --- 2. Definizione della quantità disponibile ---\n",
    "# Ottieni l'ID della location (magazzino principale)\n",
    "location_id = StockLocation.search([('usage', '=', 'internal')], limit=1)[0]\n",
    "\n",
    "StockQuant.create({\n",
    "    'product_id': new_product_id,\n",
    "    'location_id': location_id,\n",
    "    'quantity': 100,  # Quantità disponibile\n",
    "    'reserved_quantity': 10,  # Quantità riservata\n",
    "})\n",
    "\n",
    "print(\"Quantità impostata per il nuovo prodotto.\")\n",
    "\n",
    "# --- 3. Definizione della quantità minima di riordino ---\n",
    "OrderPoint.create({\n",
    "    'product_id': new_product_id,\n",
    "    'location_id': location_id,\n",
    "    'product_min_qty': 20,  # Quantità minima per riordino\n",
    "    'product_max_qty': 200,  # Quantità massima da mantenere in stock\n",
    "})\n",
    "\n",
    "print(\"Regola di riordino creata con successo.\")\n"
   ]
  },
  {
   "cell_type": "code",
   "execution_count": null,
   "metadata": {},
   "outputs": [],
   "source": []
  }
 ],
 "metadata": {
  "kernelspec": {
   "display_name": "Python 3.12.0 64-bit ('test-llm': conda)",
   "name": "python3120jvsc74a57bd03f007541affe8e9bffdbc4961558cef873a525ac28097eff3d39a1c5e9a2788f"
  },
  "language_info": {
   "codemirror_mode": {
    "name": "ipython",
    "version": 3
   },
   "file_extension": ".py",
   "mimetype": "text/x-python",
   "name": "python",
   "nbconvert_exporter": "python",
   "pygments_lexer": "ipython3",
   "version": "3.12.0"
  },
  "orig_nbformat": 2
 },
 "nbformat": 4,
 "nbformat_minor": 2
}